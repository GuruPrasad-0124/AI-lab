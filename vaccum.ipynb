{
  "nbformat": 4,
  "nbformat_minor": 0,
  "metadata": {
    "colab": {
      "provenance": [],
      "authorship_tag": "ABX9TyP+0qnNkHLE7VasJ9w9CNd9",
      "include_colab_link": true
    },
    "kernelspec": {
      "name": "python3",
      "display_name": "Python 3"
    },
    "language_info": {
      "name": "python"
    }
  },
  "cells": [
    {
      "cell_type": "markdown",
      "metadata": {
        "id": "view-in-github",
        "colab_type": "text"
      },
      "source": [
        "<a href=\"https://colab.research.google.com/github/GuruPrasad-0124/AI-lab/blob/main/vaccum.ipynb\" target=\"_parent\"><img src=\"https://colab.research.google.com/assets/colab-badge.svg\" alt=\"Open In Colab\"/></a>"
      ]
    },
    {
      "cell_type": "code",
      "execution_count": 2,
      "metadata": {
        "colab": {
          "base_uri": "https://localhost:8080/"
        },
        "id": "REpWvF51PEv3",
        "outputId": "99a6d8e5-d839-4ea9-d1b8-e961ee69e3d7"
      },
      "outputs": [
        {
          "output_type": "stream",
          "name": "stdout",
          "text": [
            "[1, 1, 1, 0]\n",
            "[0, 1, 0, 1]\n",
            "[1, 0, 1, 0]\n",
            "[0, 1, 1, 1]\n",
            "Cleaning the current position.\n",
            "Nothing to clean.\n",
            "Cleaning the current position.\n",
            "[0, 1, 1, 0]\n",
            "[0, 0, 0, 1]\n",
            "[1, 0, 1, 0]\n",
            "[0, 1, 1, 1]\n"
          ]
        }
      ],
      "source": [
        "class VacuumCleaner:\n",
        "    def __init__(self, room_map):\n",
        "        self.room_map = room_map\n",
        "        self.current_position = (0, 0)\n",
        "\n",
        "    def move_left(self):\n",
        "        x, y = self.current_position\n",
        "        if y > 0:\n",
        "            self.current_position = (x, y - 1)\n",
        "        else:\n",
        "            print(\"Already at the leftmost position.\")\n",
        "\n",
        "    def move_right(self):\n",
        "        x, y = self.current_position\n",
        "        if y < len(self.room_map[0]) - 1:\n",
        "            self.current_position = (x, y + 1)\n",
        "        else:\n",
        "            print(\"Already at the rightmost position.\")\n",
        "\n",
        "    def move_up(self):\n",
        "        x, y = self.current_position\n",
        "        if x > 0:\n",
        "            self.current_position = (x - 1, y)\n",
        "        else:\n",
        "            print(\"Already at the topmost position.\")\n",
        "\n",
        "    def move_down(self):\n",
        "        x, y = self.current_position\n",
        "        if x < len(self.room_map) - 1:\n",
        "            self.current_position = (x + 1, y)\n",
        "        else:\n",
        "            print(\"Already at the bottommost position.\")\n",
        "\n",
        "    def clean(self):\n",
        "        x, y = self.current_position\n",
        "        if self.room_map[x][y] == 1:\n",
        "            self.room_map[x][y] = 0\n",
        "            print(\"Cleaning the current position.\")\n",
        "        else:\n",
        "            print(\"Nothing to clean.\")\n",
        "\n",
        "    def print_room_map(self):\n",
        "        for row in self.room_map:\n",
        "            print(row)\n",
        "\n",
        "\n",
        "# Example usage\n",
        "room_map = [\n",
        "    [1, 1, 1, 0],\n",
        "    [0, 1, 0, 1],\n",
        "    [1, 0, 1, 0],\n",
        "    [0, 1, 1, 1]\n",
        "]\n",
        "\n",
        "vacuum = VacuumCleaner(room_map)\n",
        "\n",
        "vacuum.print_room_map()  # Print the initial room map\n",
        "\n",
        "vacuum.clean()  # Clean the current position\n",
        "\n",
        "vacuum.move_down()  # Move down to the next position\n",
        "vacuum.clean()\n",
        "\n",
        "vacuum.move_right()  # Move right to the next position\n",
        "vacuum.clean()\n",
        "\n",
        "vacuum.print_room_map()  # Print the updated room map\n"
      ]
    }
  ]
}